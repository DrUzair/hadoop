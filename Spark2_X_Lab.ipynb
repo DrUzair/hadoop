{
  "nbformat": 4,
  "nbformat_minor": 0,
  "metadata": {
    "colab": {
      "name": "Spark2.X_Lab.ipynb",
      "provenance": [],
      "collapsed_sections": [],
      "toc_visible": true,
      "include_colab_link": true
    },
    "kernelspec": {
      "name": "python3",
      "display_name": "Python 3"
    }
  },
  "cells": [
    {
      "cell_type": "markdown",
      "metadata": {
        "id": "view-in-github",
        "colab_type": "text"
      },
      "source": [
        "<a href=\"https://colab.research.google.com/github/DrUzair/hadoop/blob/master/Spark2_X_Lab.ipynb\" target=\"_parent\"><img src=\"https://colab.research.google.com/assets/colab-badge.svg\" alt=\"Open In Colab\"/></a>"
      ]
    },
    {
      "cell_type": "markdown",
      "metadata": {
        "id": "RdLy814k8Scg",
        "colab_type": "text"
      },
      "source": [
        "# Spark Installation"
      ]
    },
    {
      "cell_type": "code",
      "metadata": {
        "id": "bq8_mP8vqV5d",
        "colab_type": "code",
        "colab": {}
      },
      "source": [
        "!apt-get install openjdk-8-jdk-headless -qq > /dev/null\n",
        "!wget -q https://www-us.apache.org/dist/spark/spark-2.3.4/spark-2.3.4-bin-hadoop2.7.tgz\n",
        "!tar xf spark-2.3.4-bin-hadoop2.7.tgz\n",
        "!pip install -q findspark"
      ],
      "execution_count": 0,
      "outputs": []
    },
    {
      "cell_type": "code",
      "metadata": {
        "id": "v1O3dDd3QpI5",
        "colab_type": "code",
        "colab": {}
      },
      "source": [
        "import os\n",
        "os.environ[\"JAVA_HOME\"] = \"/usr/lib/jvm/java-8-openjdk-amd64\"\n",
        "os.environ[\"SPARK_HOME\"] = \"/content/spark-2.3.4-bin-hadoop2.7\""
      ],
      "execution_count": 0,
      "outputs": []
    },
    {
      "cell_type": "code",
      "metadata": {
        "id": "y81yC8rEq4TS",
        "colab_type": "code",
        "colab": {}
      },
      "source": [
        "import findspark\n",
        "findspark.init()"
      ],
      "execution_count": 0,
      "outputs": []
    },
    {
      "cell_type": "markdown",
      "metadata": {
        "id": "DGF7nZtt89Xn",
        "colab_type": "text"
      },
      "source": [
        "# Upload Data"
      ]
    },
    {
      "cell_type": "code",
      "metadata": {
        "id": "jcrHBF5RszU2",
        "colab_type": "code",
        "outputId": "9a7eff20-628f-41aa-8f8a-87c07b534bb6",
        "colab": {
          "resources": {
            "http://localhost:8080/nbextensions/google.colab/files.js": {
              "data": "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",
              "ok": true,
              "headers": [
                [
                  "content-type",
                  "application/javascript"
                ]
              ],
              "status": 200,
              "status_text": ""
            }
          },
          "base_uri": "https://localhost:8080/",
          "height": 54
        }
      },
      "source": [
        "from google.colab import files\n",
        "files.upload()"
      ],
      "execution_count": 0,
      "outputs": [
        {
          "output_type": "display_data",
          "data": {
            "text/html": [
              "\n",
              "     <input type=\"file\" id=\"files-79a24220-ddaf-4a03-af11-66ff0c89b2b4\" name=\"files[]\" multiple disabled />\n",
              "     <output id=\"result-79a24220-ddaf-4a03-af11-66ff0c89b2b4\">\n",
              "      Upload widget is only available when the cell has been executed in the\n",
              "      current browser session. Please rerun this cell to enable.\n",
              "      </output>\n",
              "      <script src=\"/nbextensions/google.colab/files.js\"></script> "
            ],
            "text/plain": [
              "<IPython.core.display.HTML object>"
            ]
          },
          "metadata": {
            "tags": []
          }
        },
        {
          "output_type": "execute_result",
          "data": {
            "text/plain": [
              "{}"
            ]
          },
          "metadata": {
            "tags": []
          },
          "execution_count": 4
        }
      ]
    },
    {
      "cell_type": "markdown",
      "metadata": {
        "id": "mNu2tve-fbY6",
        "colab_type": "text"
      },
      "source": [
        "# Spark Session"
      ]
    },
    {
      "cell_type": "markdown",
      "metadata": {
        "id": "guPB-g6IKtux",
        "colab_type": "text"
      },
      "source": [
        "Spark 2.0 onwards, instead of having a spark context, hive context, SQL context, now all of them are encapsulated in a Spark session object. Having a spark session object alleviate the need for creating Spark Context."
      ]
    },
    {
      "cell_type": "code",
      "metadata": {
        "id": "iUFYtjAer5cM",
        "colab_type": "code",
        "colab": {}
      },
      "source": [
        "from pyspark.sql import SparkSession\n",
        "spark = SparkSession.builder \\\n",
        "    .master(\"local[*]\") \\\n",
        "    .appName(\"Spark_Lab_Bootcamp\") \\\n",
        "    .getOrCreate()"
      ],
      "execution_count": 0,
      "outputs": []
    },
    {
      "cell_type": "markdown",
      "metadata": {
        "id": "8q0Se50qLt9Z",
        "colab_type": "text"
      },
      "source": [
        "You can still access spark context from Spark Session as following."
      ]
    },
    {
      "cell_type": "code",
      "metadata": {
        "id": "W9_S1wcKFqYQ",
        "colab_type": "code",
        "colab": {}
      },
      "source": [
        "sc = spark.sparkContext"
      ],
      "execution_count": 0,
      "outputs": []
    },
    {
      "cell_type": "markdown",
      "metadata": {
        "id": "ZXHIDetg8skZ",
        "colab_type": "text"
      },
      "source": [
        "# Spark SQL"
      ]
    },
    {
      "cell_type": "markdown",
      "metadata": {
        "id": "CxOzhn4R9H6D",
        "colab_type": "text"
      },
      "source": [
        "## Reading CSV into and Spark DataFrame "
      ]
    },
    {
      "cell_type": "code",
      "metadata": {
        "id": "45U2ZRTTti3Z",
        "colab_type": "code",
        "outputId": "1cb1b113-ebca-4ef0-a9e7-2a96b0ef26f2",
        "colab": {
          "base_uri": "https://localhost:8080/",
          "height": 411
        }
      },
      "source": [
        "!wget https://raw.githubusercontent.com/DrUzair/MLSD/master/Datasets/HDP/trucks.csv\n",
        "trucks_data_frame = spark.read.csv('trucks.csv',inferSchema=True, header=True)\n",
        "!wget https://raw.githubusercontent.com/DrUzair/MLSD/master/Datasets/HDP/drivers.csv\n",
        "drivers_data_frame = spark.read.csv('drivers.csv',inferSchema=True, header=True)"
      ],
      "execution_count": 0,
      "outputs": [
        {
          "output_type": "stream",
          "text": [
            "--2019-10-14 23:20:03--  https://raw.githubusercontent.com/DrUzair/MLSD/master/Datasets/HDP/trucks.csv\n",
            "Resolving raw.githubusercontent.com (raw.githubusercontent.com)... 151.101.0.133, 151.101.64.133, 151.101.128.133, ...\n",
            "Connecting to raw.githubusercontent.com (raw.githubusercontent.com)|151.101.0.133|:443... connected.\n",
            "HTTP request sent, awaiting response... 200 OK\n",
            "Length: 61378 (60K) [text/plain]\n",
            "Saving to: ‘trucks.csv’\n",
            "\n",
            "\rtrucks.csv            0%[                    ]       0  --.-KB/s               \rtrucks.csv          100%[===================>]  59.94K  --.-KB/s    in 0.02s   \n",
            "\n",
            "2019-10-14 23:20:03 (2.41 MB/s) - ‘trucks.csv’ saved [61378/61378]\n",
            "\n",
            "--2019-10-14 23:20:10--  https://raw.githubusercontent.com/DrUzair/MLSD/master/Datasets/HDP/drivers.csv\n",
            "Resolving raw.githubusercontent.com (raw.githubusercontent.com)... 151.101.0.133, 151.101.64.133, 151.101.128.133, ...\n",
            "Connecting to raw.githubusercontent.com (raw.githubusercontent.com)|151.101.0.133|:443... connected.\n",
            "HTTP request sent, awaiting response... 200 OK\n",
            "Length: 2043 (2.0K) [text/plain]\n",
            "Saving to: ‘drivers.csv’\n",
            "\n",
            "drivers.csv         100%[===================>]   2.00K  --.-KB/s    in 0s      \n",
            "\n",
            "2019-10-14 23:20:10 (34.6 MB/s) - ‘drivers.csv’ saved [2043/2043]\n",
            "\n"
          ],
          "name": "stdout"
        }
      ]
    },
    {
      "cell_type": "code",
      "metadata": {
        "id": "nWUGt4HStx5t",
        "colab_type": "code",
        "outputId": "131275a4-1710-4501-96d3-d6523a423133",
        "colab": {
          "base_uri": "https://localhost:8080/",
          "height": 34
        }
      },
      "source": [
        "print(type(trucks_data_frame))"
      ],
      "execution_count": 0,
      "outputs": [
        {
          "output_type": "stream",
          "text": [
            "<class 'pyspark.sql.dataframe.DataFrame'>\n"
          ],
          "name": "stdout"
        }
      ]
    },
    {
      "cell_type": "markdown",
      "metadata": {
        "id": "_ApSozwF9Yga",
        "colab_type": "text"
      },
      "source": [
        "## Explore Data using DataFrame API"
      ]
    },
    {
      "cell_type": "code",
      "metadata": {
        "id": "NMphKJo_t7Uj",
        "colab_type": "code",
        "outputId": "5d158825-3fd9-4461-c94a-7c675b1e52a9",
        "colab": {
          "base_uri": "https://localhost:8080/",
          "height": 51
        }
      },
      "source": [
        "print('trucks_data_frame rows {0} cols {1}'.format(trucks_data_frame.count(), len(trucks_data_frame.columns)))\n",
        "print('drivers_data_frame rows {0} cols {1}'.format(drivers_data_frame.count(), len(drivers_data_frame.columns)))"
      ],
      "execution_count": 0,
      "outputs": [
        {
          "output_type": "stream",
          "text": [
            "trucks_data_frame rows 100 cols 111\n",
            "drivers_data_frame rows 34 cols 6\n"
          ],
          "name": "stdout"
        }
      ]
    },
    {
      "cell_type": "code",
      "metadata": {
        "id": "1Jrsqdinu45v",
        "colab_type": "code",
        "outputId": "6eb8acad-ee0e-44d6-c6e2-04a0ea859812",
        "colab": {
          "base_uri": "https://localhost:8080/",
          "height": 289
        }
      },
      "source": [
        "drivers_data_frame.show(10)"
      ],
      "execution_count": 0,
      "outputs": [
        {
          "output_type": "stream",
          "text": [
            "+--------+-----------------+---------+--------------------+---------+---------+\n",
            "|driverId|             name|      ssn|            location|certified|wage-plan|\n",
            "+--------+-----------------+---------+--------------------+---------+---------+\n",
            "|      10|George Vetticaden|621011971|  244-4532 Nulla Rd.|        N|    miles|\n",
            "|      11|   Jamie Engesser|262112338|  366-4125 Ac Street|        N|    miles|\n",
            "|      12|      Paul Coddin|198041975|Ap #622-957 Risus...|        Y|    hours|\n",
            "|      13|      Joe Niemiec|139907145| 2071 Hendrerit. Ave|        Y|    hours|\n",
            "|      14|       Adis Cesir|820812209| Ap #810-1228 In St.|        Y|    hours|\n",
            "|      15|     Rohit Bakshi|239005227|   648-5681 Dui- Rd.|        Y|    hours|\n",
            "|      16|       Tom McCuch|363303105|P.O. Box 313- 962...|        Y|    hours|\n",
            "|      17|      Eric Mizell|123808238|P.O. Box 579- 219...|        Y|    hours|\n",
            "|      18|        Grant Liu|171010151|Ap #928-3159 Vest...|        Y|    hours|\n",
            "|      19|       Ajay Singh|160005158|592-9430 Nonummy ...|        Y|    hours|\n",
            "+--------+-----------------+---------+--------------------+---------+---------+\n",
            "only showing top 10 rows\n",
            "\n"
          ],
          "name": "stdout"
        }
      ]
    },
    {
      "cell_type": "code",
      "metadata": {
        "id": "jzEJJb0HvAaF",
        "colab_type": "code",
        "outputId": "326efff8-a03a-4c1b-acc0-63926ef1e16a",
        "colab": {
          "base_uri": "https://localhost:8080/",
          "height": 1000
        }
      },
      "source": [
        "trucks_data_frame.printSchema()"
      ],
      "execution_count": 0,
      "outputs": [
        {
          "output_type": "stream",
          "text": [
            "root\n",
            " |-- driverid: string (nullable = true)\n",
            " |-- truckid: string (nullable = true)\n",
            " |-- model: string (nullable = true)\n",
            " |-- jun13_miles: integer (nullable = true)\n",
            " |-- jun13_gas: integer (nullable = true)\n",
            " |-- may13_miles: integer (nullable = true)\n",
            " |-- may13_gas: integer (nullable = true)\n",
            " |-- apr13_miles: integer (nullable = true)\n",
            " |-- apr13_gas: integer (nullable = true)\n",
            " |-- mar13_miles: integer (nullable = true)\n",
            " |-- mar13_gas: integer (nullable = true)\n",
            " |-- feb13_miles: integer (nullable = true)\n",
            " |-- feb13_gas: integer (nullable = true)\n",
            " |-- jan13_miles: integer (nullable = true)\n",
            " |-- jan13_gas: integer (nullable = true)\n",
            " |-- dec12_miles: integer (nullable = true)\n",
            " |-- dec12_gas: integer (nullable = true)\n",
            " |-- nov12_miles: integer (nullable = true)\n",
            " |-- nov12_gas: integer (nullable = true)\n",
            " |-- oct12_miles: integer (nullable = true)\n",
            " |-- oct12_gas: integer (nullable = true)\n",
            " |-- sep12_miles: integer (nullable = true)\n",
            " |-- sep12_gas: integer (nullable = true)\n",
            " |-- aug12_miles: integer (nullable = true)\n",
            " |-- aug12_gas: integer (nullable = true)\n",
            " |-- jul12_miles: integer (nullable = true)\n",
            " |-- jul12_gas: integer (nullable = true)\n",
            " |-- jun12_miles: integer (nullable = true)\n",
            " |-- jun12_gas: integer (nullable = true)\n",
            " |-- may12_miles: integer (nullable = true)\n",
            " |-- may12_gas: integer (nullable = true)\n",
            " |-- apr12_miles: integer (nullable = true)\n",
            " |-- apr12_gas: integer (nullable = true)\n",
            " |-- mar12_miles: integer (nullable = true)\n",
            " |-- mar12_gas: integer (nullable = true)\n",
            " |-- feb12_miles: integer (nullable = true)\n",
            " |-- feb12_gas: integer (nullable = true)\n",
            " |-- jan12_miles: integer (nullable = true)\n",
            " |-- jan12_gas: integer (nullable = true)\n",
            " |-- dec11_miles: integer (nullable = true)\n",
            " |-- dec11_gas: integer (nullable = true)\n",
            " |-- nov11_miles: integer (nullable = true)\n",
            " |-- nov11_gas: integer (nullable = true)\n",
            " |-- oct11_miles: integer (nullable = true)\n",
            " |-- oct11_gas: integer (nullable = true)\n",
            " |-- sep11_miles: integer (nullable = true)\n",
            " |-- sep11_gas: integer (nullable = true)\n",
            " |-- aug11_miles: integer (nullable = true)\n",
            " |-- aug11_gas: integer (nullable = true)\n",
            " |-- jul11_miles: integer (nullable = true)\n",
            " |-- jul11_gas: integer (nullable = true)\n",
            " |-- jun11_miles: integer (nullable = true)\n",
            " |-- jun11_gas: integer (nullable = true)\n",
            " |-- may11_miles: integer (nullable = true)\n",
            " |-- may11_gas: integer (nullable = true)\n",
            " |-- apr11_miles: integer (nullable = true)\n",
            " |-- apr11_gas: integer (nullable = true)\n",
            " |-- mar11_miles: integer (nullable = true)\n",
            " |-- mar11_gas: integer (nullable = true)\n",
            " |-- feb11_miles: integer (nullable = true)\n",
            " |-- feb11_gas: integer (nullable = true)\n",
            " |-- jan11_miles: integer (nullable = true)\n",
            " |-- jan11_gas: integer (nullable = true)\n",
            " |-- dec10_miles: integer (nullable = true)\n",
            " |-- dec10_gas: integer (nullable = true)\n",
            " |-- nov10_miles: integer (nullable = true)\n",
            " |-- nov10_gas: integer (nullable = true)\n",
            " |-- oct10_miles: integer (nullable = true)\n",
            " |-- oct10_gas: integer (nullable = true)\n",
            " |-- sep10_miles: integer (nullable = true)\n",
            " |-- sep10_gas: integer (nullable = true)\n",
            " |-- aug10_miles: integer (nullable = true)\n",
            " |-- aug10_gas: integer (nullable = true)\n",
            " |-- jul10_miles: integer (nullable = true)\n",
            " |-- jul10_gas: integer (nullable = true)\n",
            " |-- jun10_miles: integer (nullable = true)\n",
            " |-- jun10_gas: integer (nullable = true)\n",
            " |-- may10_miles: integer (nullable = true)\n",
            " |-- may10_gas: integer (nullable = true)\n",
            " |-- apr10_miles: integer (nullable = true)\n",
            " |-- apr10_gas: integer (nullable = true)\n",
            " |-- mar10_miles: integer (nullable = true)\n",
            " |-- mar10_gas: integer (nullable = true)\n",
            " |-- feb10_miles: integer (nullable = true)\n",
            " |-- feb10_gas: integer (nullable = true)\n",
            " |-- jan10_miles: integer (nullable = true)\n",
            " |-- jan10_gas: integer (nullable = true)\n",
            " |-- dec09_miles: integer (nullable = true)\n",
            " |-- dec09_gas: integer (nullable = true)\n",
            " |-- nov09_miles: integer (nullable = true)\n",
            " |-- nov09_gas: integer (nullable = true)\n",
            " |-- oct09_miles: integer (nullable = true)\n",
            " |-- oct09_gas: integer (nullable = true)\n",
            " |-- sep09_miles: integer (nullable = true)\n",
            " |-- sep09_gas: integer (nullable = true)\n",
            " |-- aug09_miles: integer (nullable = true)\n",
            " |-- aug09_gas: integer (nullable = true)\n",
            " |-- jul09_miles: integer (nullable = true)\n",
            " |-- jul09_gas: integer (nullable = true)\n",
            " |-- jun09_miles: integer (nullable = true)\n",
            " |-- jun09_gas: integer (nullable = true)\n",
            " |-- may09_miles: integer (nullable = true)\n",
            " |-- may09_gas: integer (nullable = true)\n",
            " |-- apr09_miles: integer (nullable = true)\n",
            " |-- apr09_gas: integer (nullable = true)\n",
            " |-- mar09_miles: integer (nullable = true)\n",
            " |-- mar09_gas: integer (nullable = true)\n",
            " |-- feb09_miles: integer (nullable = true)\n",
            " |-- feb09_gas: integer (nullable = true)\n",
            " |-- jan09_miles: integer (nullable = true)\n",
            " |-- jan09_gas: integer (nullable = true)\n",
            "\n"
          ],
          "name": "stdout"
        }
      ]
    },
    {
      "cell_type": "code",
      "metadata": {
        "id": "Q6-HDXVSvJQh",
        "colab_type": "code",
        "outputId": "64f1f71a-4dbb-4840-ede9-c80b32f86ac4",
        "colab": {
          "base_uri": "https://localhost:8080/",
          "height": 374
        }
      },
      "source": [
        "trucks_data_frame.select(\"driverid\").show(15, truncate=False)"
      ],
      "execution_count": 0,
      "outputs": [
        {
          "output_type": "stream",
          "text": [
            "+--------+\n",
            "|driverid|\n",
            "+--------+\n",
            "|A1      |\n",
            "|A2      |\n",
            "|A3      |\n",
            "|A4      |\n",
            "|A5      |\n",
            "|A6      |\n",
            "|A7      |\n",
            "|A8      |\n",
            "|A9      |\n",
            "|A10     |\n",
            "|A11     |\n",
            "|A12     |\n",
            "|A13     |\n",
            "|A14     |\n",
            "|A15     |\n",
            "+--------+\n",
            "only showing top 15 rows\n",
            "\n"
          ],
          "name": "stdout"
        }
      ]
    },
    {
      "cell_type": "code",
      "metadata": {
        "id": "pnNJ7Q05v7J-",
        "colab_type": "code",
        "outputId": "9cec7575-366d-42bd-8fe0-e57dba0aaf49",
        "colab": {
          "base_uri": "https://localhost:8080/",
          "height": 289
        }
      },
      "source": [
        "trucks_data_frame.groupBy(\"driverid\") \\\n",
        ".count() \\\n",
        ".orderBy(\"count\", ascending=False) \\\n",
        ".show(10)"
      ],
      "execution_count": 0,
      "outputs": [
        {
          "output_type": "stream",
          "text": [
            "+--------+-----+\n",
            "|driverid|count|\n",
            "+--------+-----+\n",
            "|     A47|    1|\n",
            "|     A76|    1|\n",
            "|     A23|    1|\n",
            "|     A65|    1|\n",
            "|     A46|    1|\n",
            "|      A9|    1|\n",
            "|     A92|    1|\n",
            "|     A35|    1|\n",
            "|     A62|    1|\n",
            "|      A6|    1|\n",
            "+--------+-----+\n",
            "only showing top 10 rows\n",
            "\n"
          ],
          "name": "stdout"
        }
      ]
    },
    {
      "cell_type": "code",
      "metadata": {
        "id": "ua-woMPLvcaB",
        "colab_type": "code",
        "outputId": "e0e7f3c2-7515-4544-d4ef-1a20490a9762",
        "colab": {
          "base_uri": "https://localhost:8080/",
          "height": 312
        }
      },
      "source": [
        "trucks_data_frame.describe([\"jun13_miles\",\"jun13_gas\"]).show()\n",
        "trucks_data_frame.describe([\"jun13_miles\",\"jun13_gas\"]).toPandas().transpose()"
      ],
      "execution_count": 0,
      "outputs": [
        {
          "output_type": "stream",
          "text": [
            "+-------+------------------+-----------------+\n",
            "|summary|       jun13_miles|        jun13_gas|\n",
            "+-------+------------------+-----------------+\n",
            "|  count|               100|              100|\n",
            "|   mean|          12043.12|          2456.32|\n",
            "| stddev|1777.4446547237583|436.0520745474922|\n",
            "|    min|              8490|             1593|\n",
            "|    max|             15548|             3446|\n",
            "+-------+------------------+-----------------+\n",
            "\n"
          ],
          "name": "stdout"
        },
        {
          "output_type": "execute_result",
          "data": {
            "text/html": [
              "<div>\n",
              "<style scoped>\n",
              "    .dataframe tbody tr th:only-of-type {\n",
              "        vertical-align: middle;\n",
              "    }\n",
              "\n",
              "    .dataframe tbody tr th {\n",
              "        vertical-align: top;\n",
              "    }\n",
              "\n",
              "    .dataframe thead th {\n",
              "        text-align: right;\n",
              "    }\n",
              "</style>\n",
              "<table border=\"1\" class=\"dataframe\">\n",
              "  <thead>\n",
              "    <tr style=\"text-align: right;\">\n",
              "      <th></th>\n",
              "      <th>0</th>\n",
              "      <th>1</th>\n",
              "      <th>2</th>\n",
              "      <th>3</th>\n",
              "      <th>4</th>\n",
              "    </tr>\n",
              "  </thead>\n",
              "  <tbody>\n",
              "    <tr>\n",
              "      <th>summary</th>\n",
              "      <td>count</td>\n",
              "      <td>mean</td>\n",
              "      <td>stddev</td>\n",
              "      <td>min</td>\n",
              "      <td>max</td>\n",
              "    </tr>\n",
              "    <tr>\n",
              "      <th>jun13_miles</th>\n",
              "      <td>100</td>\n",
              "      <td>12043.12</td>\n",
              "      <td>1777.4446547237583</td>\n",
              "      <td>8490</td>\n",
              "      <td>15548</td>\n",
              "    </tr>\n",
              "    <tr>\n",
              "      <th>jun13_gas</th>\n",
              "      <td>100</td>\n",
              "      <td>2456.32</td>\n",
              "      <td>436.0520745474922</td>\n",
              "      <td>1593</td>\n",
              "      <td>3446</td>\n",
              "    </tr>\n",
              "  </tbody>\n",
              "</table>\n",
              "</div>"
            ],
            "text/plain": [
              "                 0         1                   2     3      4\n",
              "summary      count      mean              stddev   min    max\n",
              "jun13_miles    100  12043.12  1777.4446547237583  8490  15548\n",
              "jun13_gas      100   2456.32   436.0520745474922  1593   3446"
            ]
          },
          "metadata": {
            "tags": []
          },
          "execution_count": 17
        }
      ]
    },
    {
      "cell_type": "markdown",
      "metadata": {
        "id": "Mu_KqNj89oC7",
        "colab_type": "text"
      },
      "source": [
        "# MLLib"
      ]
    },
    {
      "cell_type": "markdown",
      "metadata": {
        "id": "1QwaHhnZaP_b",
        "colab_type": "text"
      },
      "source": [
        "## Data Preparation"
      ]
    },
    {
      "cell_type": "markdown",
      "metadata": {
        "id": "YitZ1Vxyf8nQ",
        "colab_type": "text"
      },
      "source": [
        "### Types"
      ]
    },
    {
      "cell_type": "code",
      "metadata": {
        "id": "AEz0Z4hkf_Yn",
        "colab_type": "code",
        "outputId": "a7c063e3-7b31-4f9d-935a-e116ed0b8a72",
        "colab": {
          "base_uri": "https://localhost:8080/",
          "height": 221
        }
      },
      "source": [
        "from pyspark.sql import types \n",
        "\n",
        "for t in ['BinaryType', 'BooleanType', 'ByteType', 'DateType', \n",
        "          'DecimalType', 'DoubleType', 'FloatType', 'IntegerType', \n",
        "           'LongType', 'ShortType', 'StringType', 'TimestampType']:\n",
        "    print(f\"{t}: {getattr(types, t)().simpleString()}\")"
      ],
      "execution_count": 0,
      "outputs": [
        {
          "output_type": "stream",
          "text": [
            "BinaryType: binary\n",
            "BooleanType: boolean\n",
            "ByteType: tinyint\n",
            "DateType: date\n",
            "DecimalType: decimal(10,0)\n",
            "DoubleType: double\n",
            "FloatType: float\n",
            "IntegerType: int\n",
            "LongType: bigint\n",
            "ShortType: smallint\n",
            "StringType: string\n",
            "TimestampType: timestamp\n"
          ],
          "name": "stdout"
        }
      ]
    },
    {
      "cell_type": "code",
      "metadata": {
        "id": "2OSmY_nUSscV",
        "colab_type": "code",
        "outputId": "50fcbae2-2100-4c49-d139-551e3abd7dfe",
        "colab": {
          "base_uri": "https://localhost:8080/",
          "height": 615
        }
      },
      "source": [
        "!wget https://raw.githubusercontent.com/DrUzair/MLSD/master/Datasets/iris.csv\n",
        "iris_data_frame = spark.read.csv('iris.csv',inferSchema=True, header=True)\n",
        "iris_data_frame.show(10)\n",
        "iris_data_frame.printSchema()"
      ],
      "execution_count": 0,
      "outputs": [
        {
          "output_type": "stream",
          "text": [
            "--2019-10-14 23:23:23--  https://raw.githubusercontent.com/DrUzair/MLSD/master/Datasets/iris.csv\n",
            "Resolving raw.githubusercontent.com (raw.githubusercontent.com)... 151.101.0.133, 151.101.64.133, 151.101.128.133, ...\n",
            "Connecting to raw.githubusercontent.com (raw.githubusercontent.com)|151.101.0.133|:443... connected.\n",
            "HTTP request sent, awaiting response... 200 OK\n",
            "Length: 3974 (3.9K) [text/plain]\n",
            "Saving to: ‘iris.csv’\n",
            "\n",
            "\riris.csv              0%[                    ]       0  --.-KB/s               \riris.csv            100%[===================>]   3.88K  --.-KB/s    in 0s      \n",
            "\n",
            "2019-10-14 23:23:23 (81.3 MB/s) - ‘iris.csv’ saved [3974/3974]\n",
            "\n",
            "+------------+-----------+------------+-----------+------+\n",
            "|sepal_length|sepal_width|petal_length|petal_width| class|\n",
            "+------------+-----------+------------+-----------+------+\n",
            "|         5.1|        3.5|         1.4|        0.2|Setosa|\n",
            "|         4.9|        3.0|         1.4|        0.2|Setosa|\n",
            "|         4.7|        3.2|         1.3|        0.2|Setosa|\n",
            "|         4.6|        3.1|         1.5|        0.2|Setosa|\n",
            "|         5.0|        3.6|         1.4|        0.2|Setosa|\n",
            "|         5.4|        3.9|         1.7|        0.4|Setosa|\n",
            "|         4.6|        3.4|         1.4|        0.3|Setosa|\n",
            "|         5.0|        3.4|         1.5|        0.2|Setosa|\n",
            "|         4.4|        2.9|         1.4|        0.2|Setosa|\n",
            "|         4.9|        3.1|         1.5|        0.1|Setosa|\n",
            "+------------+-----------+------------+-----------+------+\n",
            "only showing top 10 rows\n",
            "\n",
            "root\n",
            " |-- sepal_length: double (nullable = true)\n",
            " |-- sepal_width: double (nullable = true)\n",
            " |-- petal_length: double (nullable = true)\n",
            " |-- petal_width: double (nullable = true)\n",
            " |-- class: string (nullable = true)\n",
            "\n"
          ],
          "name": "stdout"
        }
      ]
    },
    {
      "cell_type": "markdown",
      "metadata": {
        "id": "00SRvvpMelvG",
        "colab_type": "text"
      },
      "source": [
        "### Column Type Conversion"
      ]
    },
    {
      "cell_type": "code",
      "metadata": {
        "id": "R35Tnx-gT1QT",
        "colab_type": "code",
        "colab": {}
      },
      "source": [
        "from pyspark.sql.types import DoubleType\n",
        "iris_data_frame = iris_data_frame.withColumn(\"sepal_length\", iris_data_frame[\"sepal_length\"].cast(DoubleType()))"
      ],
      "execution_count": 0,
      "outputs": []
    },
    {
      "cell_type": "markdown",
      "metadata": {
        "id": "xIY_-w9ffslG",
        "colab_type": "text"
      },
      "source": [
        "### String Indexing"
      ]
    },
    {
      "cell_type": "code",
      "metadata": {
        "id": "DzYne2zhfpRT",
        "colab_type": "code",
        "colab": {}
      },
      "source": [
        "from pyspark.ml.feature import StringIndexer\n",
        "indexer = StringIndexer().setInputCol(\"class\").setOutputCol(\"classIndex\").fit(iris_data_frame)"
      ],
      "execution_count": 0,
      "outputs": []
    },
    {
      "cell_type": "code",
      "metadata": {
        "id": "rvoV3s4rhH24",
        "colab_type": "code",
        "outputId": "28a193f8-6946-4b2a-fbca-90f7726f18d8",
        "colab": {
          "base_uri": "https://localhost:8080/",
          "height": 204
        }
      },
      "source": [
        "iris_df_indexed = indexer.transform(iris_data_frame)\n",
        "iris_df_indexed.show(5)"
      ],
      "execution_count": 0,
      "outputs": [
        {
          "output_type": "stream",
          "text": [
            "+------------+-----------+------------+-----------+------+----------+\n",
            "|sepal_length|sepal_width|petal_length|petal_width| class|classIndex|\n",
            "+------------+-----------+------------+-----------+------+----------+\n",
            "|         5.1|        3.5|         1.4|        0.2|Setosa|       2.0|\n",
            "|         4.9|        3.0|         1.4|        0.2|Setosa|       2.0|\n",
            "|         4.7|        3.2|         1.3|        0.2|Setosa|       2.0|\n",
            "|         4.6|        3.1|         1.5|        0.2|Setosa|       2.0|\n",
            "|         5.0|        3.6|         1.4|        0.2|Setosa|       2.0|\n",
            "+------------+-----------+------------+-----------+------+----------+\n",
            "only showing top 5 rows\n",
            "\n"
          ],
          "name": "stdout"
        }
      ]
    },
    {
      "cell_type": "markdown",
      "metadata": {
        "id": "icaV3GW7iwuN",
        "colab_type": "text"
      },
      "source": [
        "### OneHotEncoder"
      ]
    },
    {
      "cell_type": "code",
      "metadata": {
        "id": "4XdIIwAqhVm2",
        "colab_type": "code",
        "outputId": "932339f8-d07a-4f6f-c33c-bdef672041ea",
        "colab": {
          "base_uri": "https://localhost:8080/",
          "height": 289
        }
      },
      "source": [
        "from pyspark.ml.feature import OneHotEncoder\n",
        "encoder = OneHotEncoder().setInputCol(\"classIndex\").setOutputCol(\"classVec\")\n",
        "iris_df_ohe = encoder.transform(iris_df_indexed)\n",
        "iris_df_ohe.show(10)"
      ],
      "execution_count": 0,
      "outputs": [
        {
          "output_type": "stream",
          "text": [
            "+------------+-----------+------------+-----------+------+----------+---------+\n",
            "|sepal_length|sepal_width|petal_length|petal_width| class|classIndex| classVec|\n",
            "+------------+-----------+------------+-----------+------+----------+---------+\n",
            "|         5.1|        3.5|         1.4|        0.2|Setosa|       2.0|(2,[],[])|\n",
            "|         4.9|        3.0|         1.4|        0.2|Setosa|       2.0|(2,[],[])|\n",
            "|         4.7|        3.2|         1.3|        0.2|Setosa|       2.0|(2,[],[])|\n",
            "|         4.6|        3.1|         1.5|        0.2|Setosa|       2.0|(2,[],[])|\n",
            "|         5.0|        3.6|         1.4|        0.2|Setosa|       2.0|(2,[],[])|\n",
            "|         5.4|        3.9|         1.7|        0.4|Setosa|       2.0|(2,[],[])|\n",
            "|         4.6|        3.4|         1.4|        0.3|Setosa|       2.0|(2,[],[])|\n",
            "|         5.0|        3.4|         1.5|        0.2|Setosa|       2.0|(2,[],[])|\n",
            "|         4.4|        2.9|         1.4|        0.2|Setosa|       2.0|(2,[],[])|\n",
            "|         4.9|        3.1|         1.5|        0.1|Setosa|       2.0|(2,[],[])|\n",
            "+------------+-----------+------------+-----------+------+----------+---------+\n",
            "only showing top 10 rows\n",
            "\n"
          ],
          "name": "stdout"
        }
      ]
    },
    {
      "cell_type": "markdown",
      "metadata": {
        "id": "DXdkJEKSajZb",
        "colab_type": "text"
      },
      "source": [
        "### Vector Assembler"
      ]
    },
    {
      "cell_type": "code",
      "metadata": {
        "id": "dJIdGTb1Pdhm",
        "colab_type": "code",
        "colab": {}
      },
      "source": [
        "from pyspark.ml.feature import VectorAssembler\n",
        "inputcols = ['sepal_length', 'sepal_width', 'petal_length', 'petal_width']\n",
        "assembler = VectorAssembler(inputCols= inputcols,\n",
        "                            outputCol = \"predictors\")"
      ],
      "execution_count": 0,
      "outputs": []
    },
    {
      "cell_type": "code",
      "metadata": {
        "id": "Mb7iSJltUxFd",
        "colab_type": "code",
        "outputId": "3d01cb16-286e-4cf3-8071-aed00ccabb6b",
        "colab": {
          "base_uri": "https://localhost:8080/",
          "height": 136
        }
      },
      "source": [
        "predictors = assembler.transform(iris_df_indexed)\n",
        "predictors.columns"
      ],
      "execution_count": 0,
      "outputs": [
        {
          "output_type": "execute_result",
          "data": {
            "text/plain": [
              "['sepal_length',\n",
              " 'sepal_width',\n",
              " 'petal_length',\n",
              " 'petal_width',\n",
              " 'class',\n",
              " 'classIndex',\n",
              " 'predictors']"
            ]
          },
          "metadata": {
            "tags": []
          },
          "execution_count": 25
        }
      ]
    },
    {
      "cell_type": "markdown",
      "metadata": {
        "id": "omHKcqBjX5wT",
        "colab_type": "text"
      },
      "source": [
        "VectorAssembler adds a **predictors** column to the existing dataframe. Have a look on the newly added column"
      ]
    },
    {
      "cell_type": "code",
      "metadata": {
        "id": "6MUmBou2YYGQ",
        "colab_type": "code",
        "outputId": "ff0ce7f0-a961-4c88-cdf6-75c5a2137186",
        "colab": {
          "base_uri": "https://localhost:8080/",
          "height": 289
        }
      },
      "source": [
        "model_data = predictors.select(\"predictors\", \"classIndex\")\n",
        "model_data.show(10)"
      ],
      "execution_count": 0,
      "outputs": [
        {
          "output_type": "stream",
          "text": [
            "+-----------------+----------+\n",
            "|       predictors|classIndex|\n",
            "+-----------------+----------+\n",
            "|[5.1,3.5,1.4,0.2]|       2.0|\n",
            "|[4.9,3.0,1.4,0.2]|       2.0|\n",
            "|[4.7,3.2,1.3,0.2]|       2.0|\n",
            "|[4.6,3.1,1.5,0.2]|       2.0|\n",
            "|[5.0,3.6,1.4,0.2]|       2.0|\n",
            "|[5.4,3.9,1.7,0.4]|       2.0|\n",
            "|[4.6,3.4,1.4,0.3]|       2.0|\n",
            "|[5.0,3.4,1.5,0.2]|       2.0|\n",
            "|[4.4,2.9,1.4,0.2]|       2.0|\n",
            "|[4.9,3.1,1.5,0.1]|       2.0|\n",
            "+-----------------+----------+\n",
            "only showing top 10 rows\n",
            "\n"
          ],
          "name": "stdout"
        }
      ]
    },
    {
      "cell_type": "markdown",
      "metadata": {
        "id": "mHQwyHowYyhe",
        "colab_type": "text"
      },
      "source": [
        "Split the data into training and test."
      ]
    },
    {
      "cell_type": "code",
      "metadata": {
        "id": "zdGOinpnY2r4",
        "colab_type": "code",
        "colab": {}
      },
      "source": [
        "train_data, test_data = model_data.randomSplit([0.8,0.2])"
      ],
      "execution_count": 0,
      "outputs": []
    },
    {
      "cell_type": "markdown",
      "metadata": {
        "id": "D8Yoq6U0ZxOX",
        "colab_type": "text"
      },
      "source": [
        "## Classification: Decision Trees"
      ]
    },
    {
      "cell_type": "code",
      "metadata": {
        "id": "Kv2-4y4lZNdd",
        "colab_type": "code",
        "colab": {}
      },
      "source": [
        "from pyspark.ml.classification import DecisionTreeClassifier"
      ],
      "execution_count": 0,
      "outputs": []
    },
    {
      "cell_type": "code",
      "metadata": {
        "id": "mS07cZuxazw-",
        "colab_type": "code",
        "outputId": "df6035fd-b831-46a4-f7bb-cc3a058d7723",
        "colab": {
          "base_uri": "https://localhost:8080/",
          "height": 289
        }
      },
      "source": [
        "dt = DecisionTreeClassifier(featuresCol = 'predictors', labelCol = 'classIndex', maxDepth = 3)\n",
        "dtModel = dt.fit(train_data)\n",
        "predictions = dtModel.transform(test_data)\n",
        "predictions.show(10)\n"
      ],
      "execution_count": 0,
      "outputs": [
        {
          "output_type": "stream",
          "text": [
            "+-----------------+----------+--------------+--------------------+----------+\n",
            "|       predictors|classIndex| rawPrediction|         probability|prediction|\n",
            "+-----------------+----------+--------------+--------------------+----------+\n",
            "|[4.4,3.0,1.3,0.2]|       2.0|[0.0,0.0,38.0]|       [0.0,0.0,1.0]|       2.0|\n",
            "|[4.6,3.2,1.4,0.2]|       2.0|[0.0,0.0,38.0]|       [0.0,0.0,1.0]|       2.0|\n",
            "|[4.6,3.6,1.0,0.2]|       2.0|[0.0,0.0,38.0]|       [0.0,0.0,1.0]|       2.0|\n",
            "|[4.9,3.0,1.4,0.2]|       2.0|[0.0,0.0,38.0]|       [0.0,0.0,1.0]|       2.0|\n",
            "|[5.0,2.3,3.3,1.0]|       1.0|[1.0,41.0,0.0]|[0.02380952380952...|       1.0|\n",
            "|[5.0,3.4,1.6,0.4]|       2.0|[0.0,0.0,38.0]|       [0.0,0.0,1.0]|       2.0|\n",
            "|[5.0,3.5,1.3,0.3]|       2.0|[0.0,0.0,38.0]|       [0.0,0.0,1.0]|       2.0|\n",
            "|[5.0,3.5,1.6,0.6]|       2.0|[0.0,0.0,38.0]|       [0.0,0.0,1.0]|       2.0|\n",
            "|[5.0,3.6,1.4,0.2]|       2.0|[0.0,0.0,38.0]|       [0.0,0.0,1.0]|       2.0|\n",
            "|[5.4,3.0,4.5,1.5]|       1.0|[1.0,41.0,0.0]|[0.02380952380952...|       1.0|\n",
            "+-----------------+----------+--------------+--------------------+----------+\n",
            "only showing top 10 rows\n",
            "\n"
          ],
          "name": "stdout"
        }
      ]
    },
    {
      "cell_type": "code",
      "metadata": {
        "id": "0hrNbm0imHsh",
        "colab_type": "code",
        "outputId": "6f01a52c-2756-4ceb-ad85-ebc2ebc8aab0",
        "colab": {
          "base_uri": "https://localhost:8080/",
          "height": 51
        }
      },
      "source": [
        "from pyspark.ml.evaluation import MulticlassClassificationEvaluator\n",
        "\n",
        "# Select (prediction, true label) and compute test error\n",
        "evaluator = MulticlassClassificationEvaluator(\n",
        "    labelCol=\"classIndex\", predictionCol=\"prediction\", metricName=\"accuracy\")\n",
        "accuracy = evaluator.evaluate(predictions)\n",
        "print(\"Test Error = %g \" % (1.0 - accuracy))\n",
        "# summary only\n",
        "print(dtModel)"
      ],
      "execution_count": 0,
      "outputs": [
        {
          "output_type": "stream",
          "text": [
            "Test Error = 0 \n",
            "DecisionTreeClassificationModel (uid=DecisionTreeClassifier_4a87a2d28576b26edb1d) of depth 3 with 9 nodes\n"
          ],
          "name": "stdout"
        }
      ]
    },
    {
      "cell_type": "code",
      "metadata": {
        "id": "TR2vDZXHUP9w",
        "colab_type": "code",
        "colab": {}
      },
      "source": [
        "!wget https://raw.githubusercontent.com/DrUzair/MLSD/master/Datasets/galton.csv\n",
        "df_galton = spark.read.csv('galton.csv',inferSchema=True, header=True)\n",
        "df_galton.show(10)\n",
        "df_galton.printSchema()"
      ],
      "execution_count": 0,
      "outputs": []
    },
    {
      "cell_type": "code",
      "metadata": {
        "id": "kzXk28GINrK6",
        "colab_type": "code",
        "outputId": "2c4e7b33-5a9b-4a20-85dc-a3aafa5d9a56",
        "colab": {
          "base_uri": "https://localhost:8080/",
          "height": 300
        }
      },
      "source": [
        "import pandas as pd\n",
        "pd_df_galton_sample = df_galton.select([\"parent\", \"child\"]).sample(False, 0.8).toPandas()\n",
        "pd_df_galton_sample.plot.scatter(\"parent\", \"child\")"
      ],
      "execution_count": 0,
      "outputs": [
        {
          "output_type": "execute_result",
          "data": {
            "text/plain": [
              "<matplotlib.axes._subplots.AxesSubplot at 0x7f1124d05d30>"
            ]
          },
          "metadata": {
            "tags": []
          },
          "execution_count": 37
        },
        {
          "output_type": "display_data",
          "data": {
            "image/png": "[encoded data removed]",
            "text/plain": [
              "<Figure size 432x288 with 1 Axes>"
            ]
          },
          "metadata": {
            "tags": []
          }
        }
      ]
    },
    {
      "cell_type": "code",
      "metadata": {
        "id": "Hhry4C68ctT4",
        "colab_type": "code",
        "outputId": "23eb4c51-d8cf-47bd-822a-e99e0ea18894",
        "colab": {
          "base_uri": "https://localhost:8080/",
          "height": 204
        }
      },
      "source": [
        "from pyspark.ml.feature import VectorAssembler\n",
        "inputcols = ['parent']\n",
        "assembler = VectorAssembler(inputCols= inputcols, outputCol = \"features\")\n",
        "df_galton = assembler.transform(df_galton)\n",
        "df_galton.show(5)"
      ],
      "execution_count": 0,
      "outputs": [
        {
          "output_type": "stream",
          "text": [
            "+---+-----+------+--------+\n",
            "|_c0|child|parent|features|\n",
            "+---+-----+------+--------+\n",
            "|  1| 61.7|  70.5|  [70.5]|\n",
            "|  2| 61.7|  68.5|  [68.5]|\n",
            "|  3| 61.7|  65.5|  [65.5]|\n",
            "|  4| 61.7|  64.5|  [64.5]|\n",
            "|  5| 61.7|  64.0|  [64.0]|\n",
            "+---+-----+------+--------+\n",
            "only showing top 5 rows\n",
            "\n"
          ],
          "name": "stdout"
        }
      ]
    },
    {
      "cell_type": "markdown",
      "metadata": {
        "id": "r9e7fGOuXBU7",
        "colab_type": "text"
      },
      "source": [
        "## Regression"
      ]
    },
    {
      "cell_type": "code",
      "metadata": {
        "id": "_YY8yLPTPd29",
        "colab_type": "code",
        "colab": {}
      },
      "source": [
        "df_galton_train, df_galton_test = df_galton.randomSplit([0.7, 0.3])"
      ],
      "execution_count": 0,
      "outputs": []
    },
    {
      "cell_type": "markdown",
      "metadata": {
        "id": "Pg53t-fURTEH",
        "colab_type": "text"
      },
      "source": [
        "#### Linear Regression"
      ]
    },
    {
      "cell_type": "code",
      "metadata": {
        "id": "Zj3eM5RFPT1T",
        "colab_type": "code",
        "outputId": "985c438c-248f-47ee-d14b-d85f6f409486",
        "colab": {
          "base_uri": "https://localhost:8080/",
          "height": 51
        }
      },
      "source": [
        "from pyspark.ml.regression import LinearRegression\n",
        "lr = LinearRegression(featuresCol = 'features', labelCol='child', maxIter=10, regParam=0.3, elasticNetParam=0.8)\n",
        "lr_model = lr.fit(df_galton_train)\n",
        "print(\"Coefficients: \" + str(lr_model.coefficients))\n",
        "print(\"Intercept: \" + str(lr_model.intercept))"
      ],
      "execution_count": 0,
      "outputs": [
        {
          "output_type": "stream",
          "text": [
            "Coefficients: [0.5365408122515284]\n",
            "Intercept: 31.378346556443798\n"
          ],
          "name": "stdout"
        }
      ]
    },
    {
      "cell_type": "code",
      "metadata": {
        "id": "oCaZSXskQGJc",
        "colab_type": "code",
        "outputId": "34b35da9-fb5e-4d17-c14e-13d09aebd255",
        "colab": {
          "base_uri": "https://localhost:8080/",
          "height": 51
        }
      },
      "source": [
        "trainingSummary = lr_model.summary\n",
        "print(\"RMSE: %f\" % trainingSummary.rootMeanSquaredError)\n",
        "print(\"r2: %f\" % trainingSummary.r2)"
      ],
      "execution_count": 0,
      "outputs": [
        {
          "output_type": "stream",
          "text": [
            "RMSE: 2.236478\n",
            "r2: 0.223148\n"
          ],
          "name": "stdout"
        }
      ]
    },
    {
      "cell_type": "markdown",
      "metadata": {
        "id": "pzfIVod6Q9Zb",
        "colab_type": "text"
      },
      "source": [
        "r^2 about 21% ?. Pfffff ! model explains only 21% variability in the data then. "
      ]
    },
    {
      "cell_type": "code",
      "metadata": {
        "id": "x5-CtfcCQa2a",
        "colab_type": "code",
        "outputId": "aa950e7d-2e93-47ea-c4d6-41ad9870832e",
        "colab": {
          "base_uri": "https://localhost:8080/",
          "height": 221
        }
      },
      "source": [
        "lr_predictions = lr_model.transform(df_galton_test)\n",
        "lr_predictions.select(\"prediction\",\"child\", \"features\").show(5)\n",
        "from pyspark.ml.evaluation import RegressionEvaluator\n",
        "lr_evaluator = RegressionEvaluator(predictionCol=\"prediction\", \\\n",
        "                 labelCol=\"child\",metricName=\"r2\")\n",
        "print(\"R Squared (R2) on test data = %g\" % lr_evaluator.evaluate(lr_predictions))"
      ],
      "execution_count": 0,
      "outputs": [
        {
          "output_type": "stream",
          "text": [
            "+-----------------+-----+--------+\n",
            "|       prediction|child|features|\n",
            "+-----------------+-----+--------+\n",
            "|66.52176975891891| 61.7|  [65.5]|\n",
            "|69.20447382017655| 63.2|  [70.5]|\n",
            "| 68.1313921956735| 63.2|  [68.5]|\n",
            "| 68.1313921956735| 63.2|  [68.5]|\n",
            "| 68.1313921956735| 63.2|  [68.5]|\n",
            "+-----------------+-----+--------+\n",
            "only showing top 5 rows\n",
            "\n",
            "R Squared (R2) on test data = 0.141173\n"
          ],
          "name": "stdout"
        }
      ]
    },
    {
      "cell_type": "code",
      "metadata": {
        "id": "-jSJd5QHTr2O",
        "colab_type": "code",
        "outputId": "843c623f-dab1-412d-ae7f-714d9fe05be4",
        "colab": {
          "base_uri": "https://localhost:8080/",
          "height": 459
        }
      },
      "source": [
        "predictions = lr_model.transform(df_galton_test)\n",
        "predictions.select(\"features\", \"child\", \"prediction\").show()"
      ],
      "execution_count": 0,
      "outputs": [
        {
          "output_type": "stream",
          "text": [
            "+--------+-----+-----------------+\n",
            "|features|child|       prediction|\n",
            "+--------+-----+-----------------+\n",
            "|  [65.5]| 61.7|66.52176975891891|\n",
            "|  [70.5]| 63.2|69.20447382017655|\n",
            "|  [68.5]| 63.2| 68.1313921956735|\n",
            "|  [68.5]| 63.2| 68.1313921956735|\n",
            "|  [68.5]| 63.2| 68.1313921956735|\n",
            "|  [67.5]| 63.2|67.59485138342197|\n",
            "|  [69.5]| 64.2|68.66793300792501|\n",
            "|  [69.5]| 64.2|68.66793300792501|\n",
            "|  [69.5]| 64.2|68.66793300792501|\n",
            "|  [69.5]| 64.2|68.66793300792501|\n",
            "|  [69.5]| 64.2|68.66793300792501|\n",
            "|  [68.5]| 64.2| 68.1313921956735|\n",
            "|  [68.5]| 64.2| 68.1313921956735|\n",
            "|  [68.5]| 64.2| 68.1313921956735|\n",
            "|  [68.5]| 64.2| 68.1313921956735|\n",
            "|  [68.5]| 64.2| 68.1313921956735|\n",
            "|  [67.5]| 64.2|67.59485138342197|\n",
            "|  [67.5]| 64.2|67.59485138342197|\n",
            "|  [67.5]| 64.2|67.59485138342197|\n",
            "|  [66.5]| 64.2|67.05831057117044|\n",
            "+--------+-----+-----------------+\n",
            "only showing top 20 rows\n",
            "\n"
          ],
          "name": "stdout"
        }
      ]
    },
    {
      "cell_type": "markdown",
      "metadata": {
        "id": "PO6-87ZNRaGi",
        "colab_type": "text"
      },
      "source": [
        "#### Regression using Decision Trees"
      ]
    },
    {
      "cell_type": "code",
      "metadata": {
        "id": "MVL4arSiUiDg",
        "colab_type": "code",
        "outputId": "a77874df-bca0-4bb8-a1b5-671c82310ea8",
        "colab": {
          "base_uri": "https://localhost:8080/",
          "height": 34
        }
      },
      "source": [
        "from pyspark.ml.regression import DecisionTreeRegressor\n",
        "dt = DecisionTreeRegressor(featuresCol ='features', labelCol = 'child')\n",
        "dt_model = dt.fit(df_galton_train)\n",
        "dt_predictions = dt_model.transform(df_galton_test)\n",
        "dt_evaluator = RegressionEvaluator(\n",
        "    labelCol=\"child\", predictionCol=\"prediction\", metricName=\"rmse\")\n",
        "rmse = dt_evaluator.evaluate(dt_predictions)\n",
        "print(\"Root Mean Squared Error (RMSE) on test data = %g\" % rmse)"
      ],
      "execution_count": 0,
      "outputs": [
        {
          "output_type": "stream",
          "text": [
            "Root Mean Squared Error (RMSE) on test data = 2.28381\n"
          ],
          "name": "stdout"
        }
      ]
    },
    {
      "cell_type": "code",
      "metadata": {
        "id": "KpPbwXDZWA9R",
        "colab_type": "code",
        "outputId": "91d19b5e-70de-4d44-9e5e-f31553cced22",
        "colab": {
          "base_uri": "https://localhost:8080/",
          "height": 221
        }
      },
      "source": [
        "from pyspark.ml.regression import GBTRegressor\n",
        "gbt = GBTRegressor(featuresCol = 'features', labelCol = 'child', maxIter=10)\n",
        "gbt_model = gbt.fit(df_galton_train)\n",
        "gbt_predictions = gbt_model.transform(df_galton_test)\n",
        "gbt_evaluator = RegressionEvaluator(labelCol=\"child\", predictionCol=\"prediction\", metricName=\"rmse\")\n",
        "rmse = gbt_evaluator.evaluate(gbt_predictions)\n",
        "print(\"Root Mean Squared Error (RMSE) on test data = %g\" % rmse)\n",
        "gbt_predictions.select('prediction', 'child', 'features').show(5)"
      ],
      "execution_count": 0,
      "outputs": [
        {
          "output_type": "stream",
          "text": [
            "Root Mean Squared Error (RMSE) on test data = 2.28381\n",
            "+-----------------+-----+--------+\n",
            "|       prediction|child|features|\n",
            "+-----------------+-----+--------+\n",
            "|66.42916666666662| 61.7|  [65.5]|\n",
            "|69.30638297872338| 63.2|  [70.5]|\n",
            "|68.13910256410261| 63.2|  [68.5]|\n",
            "|68.13910256410261| 63.2|  [68.5]|\n",
            "|68.13910256410261| 63.2|  [68.5]|\n",
            "+-----------------+-----+--------+\n",
            "only showing top 5 rows\n",
            "\n"
          ],
          "name": "stdout"
        }
      ]
    },
    {
      "cell_type": "markdown",
      "metadata": {
        "id": "9btylYF4XWPs",
        "colab_type": "text"
      },
      "source": [
        "## Clustering"
      ]
    },
    {
      "cell_type": "code",
      "metadata": {
        "id": "Y-FgdLtYd9G2",
        "colab_type": "code",
        "outputId": "c38c21a1-367a-4d3d-da82-a08398385649",
        "colab": {
          "base_uri": "https://localhost:8080/",
          "height": 411
        }
      },
      "source": [
        "!wget https://raw.githubusercontent.com/DrUzair/MLSD/master/Datasets/galton.csv\n",
        "df_galton = spark.read.csv('galton.csv',inferSchema=True, header=True)\n",
        "from pyspark.ml.feature import VectorAssembler\n",
        "inputcols = ['parent', 'child']\n",
        "assembler = VectorAssembler(inputCols= inputcols, outputCol = \"features\")\n",
        "df_galton = assembler.transform(df_galton)\n",
        "df_galton.show(5)"
      ],
      "execution_count": 0,
      "outputs": [
        {
          "output_type": "stream",
          "text": [
            "--2019-10-14 23:26:24--  https://raw.githubusercontent.com/DrUzair/MLSD/master/Datasets/galton.csv\n",
            "Resolving raw.githubusercontent.com (raw.githubusercontent.com)... 151.101.0.133, 151.101.64.133, 151.101.128.133, ...\n",
            "Connecting to raw.githubusercontent.com (raw.githubusercontent.com)|151.101.0.133|:443... connected.\n",
            "HTTP request sent, awaiting response... 200 OK\n",
            "Length: 14724 (14K) [text/plain]\n",
            "Saving to: ‘galton.csv.1’\n",
            "\n",
            "\rgalton.csv.1          0%[                    ]       0  --.-KB/s               \rgalton.csv.1        100%[===================>]  14.38K  --.-KB/s    in 0.01s   \n",
            "\n",
            "2019-10-14 23:26:24 (1.18 MB/s) - ‘galton.csv.1’ saved [14724/14724]\n",
            "\n",
            "+---+-----+------+-----------+\n",
            "|_c0|child|parent|   features|\n",
            "+---+-----+------+-----------+\n",
            "|  1| 61.7|  70.5|[70.5,61.7]|\n",
            "|  2| 61.7|  68.5|[68.5,61.7]|\n",
            "|  3| 61.7|  65.5|[65.5,61.7]|\n",
            "|  4| 61.7|  64.5|[64.5,61.7]|\n",
            "|  5| 61.7|  64.0|[64.0,61.7]|\n",
            "+---+-----+------+-----------+\n",
            "only showing top 5 rows\n",
            "\n"
          ],
          "name": "stdout"
        }
      ]
    },
    {
      "cell_type": "code",
      "metadata": {
        "id": "-3j6UleHXfSD",
        "colab_type": "code",
        "colab": {}
      },
      "source": [
        "from pyspark.ml.clustering import KMeans\n",
        "\n",
        "kmeans = KMeans(k=8, seed=1)  # 2 clusters here\n",
        "model = kmeans.fit(df_galton.select('features'))"
      ],
      "execution_count": 0,
      "outputs": []
    },
    {
      "cell_type": "code",
      "metadata": {
        "id": "T1t_yfFFfA9Y",
        "colab_type": "code",
        "colab": {}
      },
      "source": [
        "transformed = model.transform(df_galton)\n",
        "# transformed.show() "
      ],
      "execution_count": 0,
      "outputs": []
    },
    {
      "cell_type": "code",
      "metadata": {
        "id": "6g3CozV-gPJ2",
        "colab_type": "code",
        "outputId": "6151ade7-f04b-479f-e55a-c34245c2882c",
        "colab": {
          "base_uri": "https://localhost:8080/",
          "height": 386
        }
      },
      "source": [
        "type(transformed)\n",
        "import seaborn as sns\n",
        "sns.lmplot( x=\"parent\", y=\"child\", data=transformed.toPandas(), fit_reg=False, hue='prediction', legend=True)\n"
      ],
      "execution_count": 0,
      "outputs": [
        {
          "output_type": "execute_result",
          "data": {
            "text/plain": [
              "<seaborn.axisgrid.FacetGrid at 0x7f7d0bee4d30>"
            ]
          },
          "metadata": {
            "tags": []
          },
          "execution_count": 45
        },
        {
          "output_type": "display_data",
          "data": {
            "image/png": "[encoded data removed]",
            "text/plain": [
              "<Figure size 418.375x360 with 1 Axes>"
            ]
          },
          "metadata": {
            "tags": []
          }
        }
      ]
    },
    {
      "cell_type": "code",
      "metadata": {
        "id": "j_Lp9XOxhoAB",
        "colab_type": "code",
        "outputId": "7e79b399-ffb4-487b-b0e5-20cd93174ca9",
        "colab": {
          "base_uri": "https://localhost:8080/",
          "height": 1000
        }
      },
      "source": [
        "from pyspark.ml.feature import VectorAssembler\n",
        "from pyspark.ml.clustering import KMeans\n",
        "from pyspark.sql import SparkSession\n",
        "\n",
        "spark = SparkSession.builder \\\n",
        "    .master(\"local[*]\") \\\n",
        "    .appName(\"Spark_Clustering_Lab\") \\\n",
        "    .getOrCreate()\n",
        "\n",
        "# !wget https://raw.githubusercontent.com/DrUzair/MLSD/master/Datasets/galton.csv\n",
        "df_galton = spark.read.csv('galton.csv',inferSchema=True, header=True)\n",
        "\n",
        "inputcols = ['parent', 'child']\n",
        "assembler = VectorAssembler(inputCols= inputcols, outputCol = \"features\")\n",
        "df_galton = assembler.transform(df_galton)\n",
        "df_galton.show(5)\n",
        "\n",
        "kmeans = KMeans(k=8, seed=1)  # 2 clusters here\n",
        "model = kmeans.fit(df_galton.select('features'))\n",
        "\n",
        "transformed = model.transform(df_galton)\n",
        "\n",
        "import seaborn as sns\n",
        "sns.lmplot( x=\"parent\", y=\"child\", data=transformed.toPandas(), fit_reg=False, hue='prediction', legend=True)\n",
        "\n",
        "transformed.toPandas().to_csv('galton_clusters1.csv')\n",
        "transformed.write.csv('galton_clusters2.csv')"
      ],
      "execution_count": 0,
      "outputs": [
        {
          "output_type": "stream",
          "text": [
            "+---+-----+------+-----------+\n",
            "|_c0|child|parent|   features|\n",
            "+---+-----+------+-----------+\n",
            "|  1| 61.7|  70.5|[70.5,61.7]|\n",
            "|  2| 61.7|  68.5|[68.5,61.7]|\n",
            "|  3| 61.7|  65.5|[65.5,61.7]|\n",
            "|  4| 61.7|  64.5|[64.5,61.7]|\n",
            "|  5| 61.7|  64.0|[64.0,61.7]|\n",
            "+---+-----+------+-----------+\n",
            "only showing top 5 rows\n",
            "\n"
          ],
          "name": "stdout"
        },
        {
          "output_type": "error",
          "ename": "Py4JJavaError",
          "evalue": "ignored",
          "traceback": [
            "\u001b[0;31m---------------------------------------------------------------------------\u001b[0m",
            "\u001b[0;31mPy4JJavaError\u001b[0m                             Traceback (most recent call last)",
            "\u001b[0;32m<ipython-input-46-c01b4ad54889>\u001b[0m in \u001b[0;36m<module>\u001b[0;34m()\u001b[0m\n\u001b[1;32m     22\u001b[0m \u001b[0;34m\u001b[0m\u001b[0m\n\u001b[1;32m     23\u001b[0m \u001b[0mtransformed\u001b[0m\u001b[0;34m.\u001b[0m\u001b[0mtoPandas\u001b[0m\u001b[0;34m(\u001b[0m\u001b[0;34m)\u001b[0m\u001b[0;34m.\u001b[0m\u001b[0mto_csv\u001b[0m\u001b[0;34m(\u001b[0m\u001b[0;34m'galton_clusters1.csv'\u001b[0m\u001b[0;34m)\u001b[0m\u001b[0;34m\u001b[0m\u001b[0;34m\u001b[0m\u001b[0m\n\u001b[0;32m---> 24\u001b[0;31m \u001b[0mtransformed\u001b[0m\u001b[0;34m.\u001b[0m\u001b[0mwrite\u001b[0m\u001b[0;34m.\u001b[0m\u001b[0mcsv\u001b[0m\u001b[0;34m(\u001b[0m\u001b[0;34m'galton_clusters2.csv'\u001b[0m\u001b[0;34m)\u001b[0m\u001b[0;34m\u001b[0m\u001b[0;34m\u001b[0m\u001b[0m\n\u001b[0m",
            "\u001b[0;32m/content/spark-2.3.4-bin-hadoop2.7/python/pyspark/sql/readwriter.py\u001b[0m in \u001b[0;36mcsv\u001b[0;34m(self, path, mode, compression, sep, quote, escape, header, nullValue, escapeQuotes, quoteAll, dateFormat, timestampFormat, ignoreLeadingWhiteSpace, ignoreTrailingWhiteSpace, charToEscapeQuoteEscaping)\u001b[0m\n\u001b[1;32m    883\u001b[0m                        \u001b[0mignoreTrailingWhiteSpace\u001b[0m\u001b[0;34m=\u001b[0m\u001b[0mignoreTrailingWhiteSpace\u001b[0m\u001b[0;34m,\u001b[0m\u001b[0;34m\u001b[0m\u001b[0;34m\u001b[0m\u001b[0m\n\u001b[1;32m    884\u001b[0m                        charToEscapeQuoteEscaping=charToEscapeQuoteEscaping)\n\u001b[0;32m--> 885\u001b[0;31m         \u001b[0mself\u001b[0m\u001b[0;34m.\u001b[0m\u001b[0m_jwrite\u001b[0m\u001b[0;34m.\u001b[0m\u001b[0mcsv\u001b[0m\u001b[0;34m(\u001b[0m\u001b[0mpath\u001b[0m\u001b[0;34m)\u001b[0m\u001b[0;34m\u001b[0m\u001b[0;34m\u001b[0m\u001b[0m\n\u001b[0m\u001b[1;32m    886\u001b[0m \u001b[0;34m\u001b[0m\u001b[0m\n\u001b[1;32m    887\u001b[0m     \u001b[0;34m@\u001b[0m\u001b[0msince\u001b[0m\u001b[0;34m(\u001b[0m\u001b[0;36m1.5\u001b[0m\u001b[0;34m)\u001b[0m\u001b[0;34m\u001b[0m\u001b[0;34m\u001b[0m\u001b[0m\n",
            "\u001b[0;32m/content/spark-2.3.4-bin-hadoop2.7/python/lib/py4j-0.10.7-src.zip/py4j/java_gateway.py\u001b[0m in \u001b[0;36m__call__\u001b[0;34m(self, *args)\u001b[0m\n\u001b[1;32m   1255\u001b[0m         \u001b[0manswer\u001b[0m \u001b[0;34m=\u001b[0m \u001b[0mself\u001b[0m\u001b[0;34m.\u001b[0m\u001b[0mgateway_client\u001b[0m\u001b[0;34m.\u001b[0m\u001b[0msend_command\u001b[0m\u001b[0;34m(\u001b[0m\u001b[0mcommand\u001b[0m\u001b[0;34m)\u001b[0m\u001b[0;34m\u001b[0m\u001b[0;34m\u001b[0m\u001b[0m\n\u001b[1;32m   1256\u001b[0m         return_value = get_return_value(\n\u001b[0;32m-> 1257\u001b[0;31m             answer, self.gateway_client, self.target_id, self.name)\n\u001b[0m\u001b[1;32m   1258\u001b[0m \u001b[0;34m\u001b[0m\u001b[0m\n\u001b[1;32m   1259\u001b[0m         \u001b[0;32mfor\u001b[0m \u001b[0mtemp_arg\u001b[0m \u001b[0;32min\u001b[0m \u001b[0mtemp_args\u001b[0m\u001b[0;34m:\u001b[0m\u001b[0;34m\u001b[0m\u001b[0;34m\u001b[0m\u001b[0m\n",
            "\u001b[0;32m/content/spark-2.3.4-bin-hadoop2.7/python/pyspark/sql/utils.py\u001b[0m in \u001b[0;36mdeco\u001b[0;34m(*a, **kw)\u001b[0m\n\u001b[1;32m     61\u001b[0m     \u001b[0;32mdef\u001b[0m \u001b[0mdeco\u001b[0m\u001b[0;34m(\u001b[0m\u001b[0;34m*\u001b[0m\u001b[0ma\u001b[0m\u001b[0;34m,\u001b[0m \u001b[0;34m**\u001b[0m\u001b[0mkw\u001b[0m\u001b[0;34m)\u001b[0m\u001b[0;34m:\u001b[0m\u001b[0;34m\u001b[0m\u001b[0;34m\u001b[0m\u001b[0m\n\u001b[1;32m     62\u001b[0m         \u001b[0;32mtry\u001b[0m\u001b[0;34m:\u001b[0m\u001b[0;34m\u001b[0m\u001b[0;34m\u001b[0m\u001b[0m\n\u001b[0;32m---> 63\u001b[0;31m             \u001b[0;32mreturn\u001b[0m \u001b[0mf\u001b[0m\u001b[0;34m(\u001b[0m\u001b[0;34m*\u001b[0m\u001b[0ma\u001b[0m\u001b[0;34m,\u001b[0m \u001b[0;34m**\u001b[0m\u001b[0mkw\u001b[0m\u001b[0;34m)\u001b[0m\u001b[0;34m\u001b[0m\u001b[0;34m\u001b[0m\u001b[0m\n\u001b[0m\u001b[1;32m     64\u001b[0m         \u001b[0;32mexcept\u001b[0m \u001b[0mpy4j\u001b[0m\u001b[0;34m.\u001b[0m\u001b[0mprotocol\u001b[0m\u001b[0;34m.\u001b[0m\u001b[0mPy4JJavaError\u001b[0m \u001b[0;32mas\u001b[0m \u001b[0me\u001b[0m\u001b[0;34m:\u001b[0m\u001b[0;34m\u001b[0m\u001b[0;34m\u001b[0m\u001b[0m\n\u001b[1;32m     65\u001b[0m             \u001b[0ms\u001b[0m \u001b[0;34m=\u001b[0m \u001b[0me\u001b[0m\u001b[0;34m.\u001b[0m\u001b[0mjava_exception\u001b[0m\u001b[0;34m.\u001b[0m\u001b[0mtoString\u001b[0m\u001b[0;34m(\u001b[0m\u001b[0;34m)\u001b[0m\u001b[0;34m\u001b[0m\u001b[0;34m\u001b[0m\u001b[0m\n",
            "\u001b[0;32m/content/spark-2.3.4-bin-hadoop2.7/python/lib/py4j-0.10.7-src.zip/py4j/protocol.py\u001b[0m in \u001b[0;36mget_return_value\u001b[0;34m(answer, gateway_client, target_id, name)\u001b[0m\n\u001b[1;32m    326\u001b[0m                 raise Py4JJavaError(\n\u001b[1;32m    327\u001b[0m                     \u001b[0;34m\"An error occurred while calling {0}{1}{2}.\\n\"\u001b[0m\u001b[0;34m.\u001b[0m\u001b[0;34m\u001b[0m\u001b[0;34m\u001b[0m\u001b[0m\n\u001b[0;32m--> 328\u001b[0;31m                     format(target_id, \".\", name), value)\n\u001b[0m\u001b[1;32m    329\u001b[0m             \u001b[0;32melse\u001b[0m\u001b[0;34m:\u001b[0m\u001b[0;34m\u001b[0m\u001b[0;34m\u001b[0m\u001b[0m\n\u001b[1;32m    330\u001b[0m                 raise Py4JError(\n",
            "\u001b[0;31mPy4JJavaError\u001b[0m: An error occurred while calling o867.csv.\n: java.lang.UnsupportedOperationException: CSV data source does not support struct<type:tinyint,size:int,indices:array<int>,values:array<double>> data type.\n\tat org.apache.spark.sql.execution.datasources.csv.CSVUtils$.org$apache$spark$sql$execution$datasources$csv$CSVUtils$$verifyType$1(CSVUtils.scala:127)\n\tat org.apache.spark.sql.execution.datasources.csv.CSVUtils$$anonfun$verifySchema$1.apply(CSVUtils.scala:131)\n\tat org.apache.spark.sql.execution.datasources.csv.CSVUtils$$anonfun$verifySchema$1.apply(CSVUtils.scala:131)\n\tat scala.collection.Iterator$class.foreach(Iterator.scala:893)\n\tat scala.collection.AbstractIterator.foreach(Iterator.scala:1336)\n\tat scala.collection.IterableLike$class.foreach(IterableLike.scala:72)\n\tat org.apache.spark.sql.types.StructType.foreach(StructType.scala:99)\n\tat org.apache.spark.sql.execution.datasources.csv.CSVUtils$.verifySchema(CSVUtils.scala:131)\n\tat org.apache.spark.sql.execution.datasources.csv.CSVFileFormat.prepareWrite(CSVFileFormat.scala:65)\n\tat org.apache.spark.sql.execution.datasources.FileFormatWriter$.write(FileFormatWriter.scala:140)\n\tat org.apache.spark.sql.execution.datasources.InsertIntoHadoopFsRelationCommand.run(InsertIntoHadoopFsRelationCommand.scala:154)\n\tat org.apache.spark.sql.execution.command.DataWritingCommandExec.sideEffectResult$lzycompute(commands.scala:104)\n\tat org.apache.spark.sql.execution.command.DataWritingCommandExec.sideEffectResult(commands.scala:102)\n\tat org.apache.spark.sql.execution.command.DataWritingCommandExec.doExecute(commands.scala:122)\n\tat org.apache.spark.sql.execution.SparkPlan$$anonfun$execute$1.apply(SparkPlan.scala:131)\n\tat org.apache.spark.sql.execution.SparkPlan$$anonfun$execute$1.apply(SparkPlan.scala:127)\n\tat org.apache.spark.sql.execution.SparkPlan$$anonfun$executeQuery$1.apply(SparkPlan.scala:155)\n\tat org.apache.spark.rdd.RDDOperationScope$.withScope(RDDOperationScope.scala:151)\n\tat org.apache.spark.sql.execution.SparkPlan.executeQuery(SparkPlan.scala:152)\n\tat org.apache.spark.sql.execution.SparkPlan.execute(SparkPlan.scala:127)\n\tat org.apache.spark.sql.execution.QueryExecution.toRdd$lzycompute(QueryExecution.scala:80)\n\tat org.apache.spark.sql.execution.QueryExecution.toRdd(QueryExecution.scala:80)\n\tat org.apache.spark.sql.DataFrameWriter$$anonfun$runCommand$1.apply(DataFrameWriter.scala:656)\n\tat org.apache.spark.sql.DataFrameWriter$$anonfun$runCommand$1.apply(DataFrameWriter.scala:656)\n\tat org.apache.spark.sql.execution.SQLExecution$.withNewExecutionId(SQLExecution.scala:77)\n\tat org.apache.spark.sql.DataFrameWriter.runCommand(DataFrameWriter.scala:656)\n\tat org.apache.spark.sql.DataFrameWriter.saveToV1Source(DataFrameWriter.scala:273)\n\tat org.apache.spark.sql.DataFrameWriter.save(DataFrameWriter.scala:267)\n\tat org.apache.spark.sql.DataFrameWriter.save(DataFrameWriter.scala:225)\n\tat org.apache.spark.sql.DataFrameWriter.csv(DataFrameWriter.scala:644)\n\tat sun.reflect.NativeMethodAccessorImpl.invoke0(Native Method)\n\tat sun.reflect.NativeMethodAccessorImpl.invoke(NativeMethodAccessorImpl.java:62)\n\tat sun.reflect.DelegatingMethodAccessorImpl.invoke(DelegatingMethodAccessorImpl.java:43)\n\tat java.lang.reflect.Method.invoke(Method.java:498)\n\tat py4j.reflection.MethodInvoker.invoke(MethodInvoker.java:244)\n\tat py4j.reflection.ReflectionEngine.invoke(ReflectionEngine.java:357)\n\tat py4j.Gateway.invoke(Gateway.java:282)\n\tat py4j.commands.AbstractCommand.invokeMethod(AbstractCommand.java:132)\n\tat py4j.commands.CallCommand.execute(CallCommand.java:79)\n\tat py4j.GatewayConnection.run(GatewayConnection.java:238)\n\tat java.lang.Thread.run(Thread.java:748)\n"
          ]
        },
        {
          "output_type": "display_data",
          "data": {
            "image/png": "[encoded data removed]",
            "text/plain": [
              "<Figure size 418.375x360 with 1 Axes>"
            ]
          },
          "metadata": {
            "tags": []
          }
        }
      ]
    }
  ]
}